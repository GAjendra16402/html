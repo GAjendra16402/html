{
 "cells": [
  {
   "cell_type": "code",
   "execution_count": 3,
   "id": "47c2f487",
   "metadata": {},
   "outputs": [
    {
     "data": {
      "text/plain": [
       "['__add__',\n",
       " '__class__',\n",
       " '__contains__',\n",
       " '__delattr__',\n",
       " '__dir__',\n",
       " '__doc__',\n",
       " '__eq__',\n",
       " '__format__',\n",
       " '__ge__',\n",
       " '__getattribute__',\n",
       " '__getitem__',\n",
       " '__getnewargs__',\n",
       " '__gt__',\n",
       " '__hash__',\n",
       " '__init__',\n",
       " '__init_subclass__',\n",
       " '__iter__',\n",
       " '__le__',\n",
       " '__len__',\n",
       " '__lt__',\n",
       " '__mod__',\n",
       " '__mul__',\n",
       " '__ne__',\n",
       " '__new__',\n",
       " '__reduce__',\n",
       " '__reduce_ex__',\n",
       " '__repr__',\n",
       " '__rmod__',\n",
       " '__rmul__',\n",
       " '__setattr__',\n",
       " '__sizeof__',\n",
       " '__str__',\n",
       " '__subclasshook__',\n",
       " 'capitalize',\n",
       " 'casefold',\n",
       " 'center',\n",
       " 'count',\n",
       " 'encode',\n",
       " 'endswith',\n",
       " 'expandtabs',\n",
       " 'find',\n",
       " 'format',\n",
       " 'format_map',\n",
       " 'index',\n",
       " 'isalnum',\n",
       " 'isalpha',\n",
       " 'isascii',\n",
       " 'isdecimal',\n",
       " 'isdigit',\n",
       " 'isidentifier',\n",
       " 'islower',\n",
       " 'isnumeric',\n",
       " 'isprintable',\n",
       " 'isspace',\n",
       " 'istitle',\n",
       " 'isupper',\n",
       " 'join',\n",
       " 'ljust',\n",
       " 'lower',\n",
       " 'lstrip',\n",
       " 'maketrans',\n",
       " 'partition',\n",
       " 'removeprefix',\n",
       " 'removesuffix',\n",
       " 'replace',\n",
       " 'rfind',\n",
       " 'rindex',\n",
       " 'rjust',\n",
       " 'rpartition',\n",
       " 'rsplit',\n",
       " 'rstrip',\n",
       " 'split',\n",
       " 'splitlines',\n",
       " 'startswith',\n",
       " 'strip',\n",
       " 'swapcase',\n",
       " 'title',\n",
       " 'translate',\n",
       " 'upper',\n",
       " 'zfill']"
      ]
     },
     "execution_count": 3,
     "metadata": {},
     "output_type": "execute_result"
    }
   ],
   "source": [
    "# String manipulation \n",
    "\n",
    "\n",
    "# string format\n",
    "\n",
    "# iterable / iterator\n",
    "\n",
    "# iterable => loop execute ho sakta hai\n",
    "# iter method avaible hoga\n",
    "#iterator protocol ka use krke => humare individual element ko access krti hai\n",
    "\n",
    "dir(\"hey\")\n",
    "\n"
   ]
  },
  {
   "cell_type": "code",
   "execution_count": 8,
   "id": "6c51820c",
   "metadata": {},
   "outputs": [
    {
     "name": "stdout",
     "output_type": "stream",
     "text": [
      "Enter stringhey hello\n",
      "hey\n",
      "hello\n",
      "2\n"
     ]
    }
   ],
   "source": [
    "x=input(\"Enter string\")\n",
    "count=0\n",
    "\n",
    "for i in x.split(\" \"):\n",
    "    count+=1\n",
    "    print(i)\n",
    "    \n",
    "print(count)\n",
    "\n",
    "\n",
    "# to find out the palindrome\n"
   ]
  },
  {
   "cell_type": "code",
   "execution_count": 12,
   "id": "ad96d513",
   "metadata": {},
   "outputs": [
    {
     "name": "stdout",
     "output_type": "stream",
     "text": [
      "palindrome \n"
     ]
    }
   ],
   "source": [
    "x=\"aba\"\n",
    "x[::-1]\n",
    "if(x==x[::-1]):\n",
    "    print(\"palindrome \")"
   ]
  },
  {
   "cell_type": "code",
   "execution_count": 14,
   "id": "6ffed8b0",
   "metadata": {},
   "outputs": [
    {
     "name": "stdout",
     "output_type": "stream",
     "text": [
      "abcba 5\n"
     ]
    }
   ],
   "source": [
    "def palindrome_check(data):\n",
    "    n=len(data)\n",
    "    mid=n//2+1\n",
    "    start=0\n",
    "    end=\n",
    "    \n",
    "palindrome_check(\"abcba\")"
   ]
  },
  {
   "cell_type": "code",
   "execution_count": 35,
   "id": "1180e4c9",
   "metadata": {},
   "outputs": [
    {
     "name": "stdout",
     "output_type": "stream",
     "text": [
      "string is symmetric\n"
     ]
    }
   ],
   "source": [
    "def symmetric_chk(data):\n",
    "    n=len(data)\n",
    "    start=0\n",
    "    last=n\n",
    "    flag=0\n",
    "    \n",
    "    if n%2:\n",
    "        mid=n//2+1\n",
    "        \n",
    "    else:\n",
    "        mid=n//2\n",
    "    \n",
    "    new=mid\n",
    "    while(start<mid and new<last):\n",
    "        if(data[start]==data[new]):\n",
    "            start+=1\n",
    "            new+=1\n",
    "        else:\n",
    "            flag=1\n",
    "            break\n",
    "         \n",
    "    if(flag==0):\n",
    "        print(\"string is symmetric\")\n",
    "    else:\n",
    "        print(\"String is asymmetric\")\n",
    "\n",
    "symmetric_chk(\"abcdabc\")"
   ]
  },
  {
   "cell_type": "code",
   "execution_count": 44,
   "id": "14e68af1",
   "metadata": {},
   "outputs": [
    {
     "name": "stdout",
     "output_type": "stream",
     "text": [
      "enter string:halloe\n",
      "{'h': 1, 'a': 1, 'l': 2, 'o': 1, 'e': 1}\n",
      "a\n"
     ]
    }
   ],
   "source": [
    "x=input(\"enter string:\")\n",
    "\n",
    "mydictionary={}\n",
    "\n",
    "for i in x:\n",
    "    if i not in mydictionary:\n",
    "        mydictionary[i] = 1\n",
    "    else:\n",
    "        mydictionary[i] +=1\n",
    "        \n",
    "print(mydictionary)\n",
    "\n",
    "print(min(mydictionary))"
   ]
  },
  {
   "cell_type": "code",
   "execution_count": 56,
   "id": "876ee2c2",
   "metadata": {},
   "outputs": [
    {
     "name": "stdout",
     "output_type": "stream",
     "text": [
      "None\n"
     ]
    }
   ],
   "source": [
    "[\"ab\",\"B\"]\n",
    "s=None\n",
    "for i in [\"10\",\"20\"]:\n",
    "    \"\".join(i)\n",
    "    \n",
    "print(s)\n",
    "    \n",
    "\n",
    "    \n",
    "    \n",
    "    "
   ]
  },
  {
   "cell_type": "code",
   "execution_count": 64,
   "id": "78b09edf",
   "metadata": {},
   "outputs": [
    {
     "name": "stdout",
     "output_type": "stream",
     "text": [
      "HELlo\n"
     ]
    }
   ],
   "source": [
    "def func(data):\n",
    "    mid=len(data)//2\n",
    "    final=\"\"\n",
    "    for i in range(0,len(data)):\n",
    "        if( i <= mid):\n",
    "            final+=data[i].upper()\n",
    "            \n",
    "        else:\n",
    "            final+=data[i]\n",
    "            \n",
    "    print(final)\n",
    "        \n",
    "        \n",
    "func(\"hello\")"
   ]
  },
  {
   "cell_type": "code",
   "execution_count": 45,
   "id": "0befa04d",
   "metadata": {},
   "outputs": [
    {
     "data": {
      "text/plain": [
       "False"
      ]
     },
     "execution_count": 45,
     "metadata": {},
     "output_type": "execute_result"
    }
   ],
   "source": [
    "mydictionary={1:\"a\",2:\"b\"}\n",
    "\n",
    "10 in mydictionary"
   ]
  },
  {
   "cell_type": "code",
   "execution_count": 17,
   "id": "e45a239b",
   "metadata": {},
   "outputs": [
    {
     "name": "stdout",
     "output_type": "stream",
     "text": [
      "The entered string is not palindrome\n"
     ]
    }
   ],
   "source": [
    "'''\n",
    "A string is said to be symmetrical if both the halves of the string are\n",
    "the same and a string is said to be a palindrome \n",
    "string if one half of the string is the reverse\n",
    "of the other half or if a string appears same when read forward or backward.\n",
    "'''\n",
    "\n",
    "def palindrome_chk(data):\n",
    "  \n",
    "    \n",
    "    mid = (len(data)-1)//2      \n",
    "    start = 0                \n",
    "    last = len(data)-1\n",
    "    flag = 0\n",
    " \n",
    "    while(start <= mid):\n",
    "  \n",
    "      \n",
    "        if (data[start]== data[last]):\n",
    "            start += 1\n",
    "            last -= 1\n",
    "             \n",
    "        else:\n",
    "            flag = 1\n",
    "            break;\n",
    "             \n",
    "    if flag == 0:\n",
    "        print(\"The entered string is palindrome\")\n",
    "    else:\n",
    "        print(\"The entered string is not palindrome\")\n",
    "        \n",
    "        \n",
    "palindrome_chk(\"sarass\")"
   ]
  },
  {
   "cell_type": "code",
   "execution_count": 10,
   "id": "530d0f7f",
   "metadata": {},
   "outputs": [
    {
     "name": "stdout",
     "output_type": "stream",
     "text": [
      "The entered string is symmetrical\n"
     ]
    }
   ],
   "source": [
    "def symmetry_chk(data):\n",
    "     \n",
    "    n = len(data)\n",
    "    flag = 0\n",
    "  \n",
    "    if n%2:\n",
    "        mid = n//2 +1\n",
    "    else:\n",
    "        mid = n//2\n",
    "         \n",
    "    start1 = 0\n",
    "    start2 = mid\n",
    "     \n",
    "    while(start1 < mid and start2 < n):\n",
    "         \n",
    "        if (data[start1]== data[start2]):\n",
    "            start1 = start1 + 1\n",
    "            start2 = start2 + 1\n",
    "        else:\n",
    "            flag = 1\n",
    "            break\n",
    "      \n",
    "  \n",
    "    if flag == 0:\n",
    "        print(\"The entered string is symmetrical\")\n",
    "    else:\n",
    "        print(\"The entered string is not symmetrical\")\n",
    "         \n",
    "symmetry_chk(\"heyhey\")"
   ]
  },
  {
   "cell_type": "code",
   "execution_count": 13,
   "id": "d2ce88b9",
   "metadata": {},
   "outputs": [
    {
     "name": "stdout",
     "output_type": "stream",
     "text": [
      "regex software services\n"
     ]
    }
   ],
   "source": [
    "string2 = \"services software regex\"\n",
    "\n",
    "s = string2.split()[::-1]\n",
    "l = []\n",
    "for i in s:\n",
    "    l.append(i)\n",
    "\n",
    "    \n",
    "print(\" \".join(l))"
   ]
  },
  {
   "cell_type": "code",
   "execution_count": 15,
   "id": "547651dc",
   "metadata": {},
   "outputs": [
    {
     "name": "stdout",
     "output_type": "stream",
     "text": [
      "5\n"
     ]
    }
   ],
   "source": [
    "def findLen(str):\n",
    "    counter = 0   \n",
    "    for i in str:\n",
    "        counter += 1\n",
    "    return counter\n",
    " \n",
    " \n",
    "str = \"regex\"\n",
    "print(findLen(str))"
   ]
  },
  {
   "cell_type": "code",
   "execution_count": 23,
   "id": "b7cee86c",
   "metadata": {},
   "outputs": [
    {
     "name": "stdout",
     "output_type": "stream",
     "text": [
      "The resultant string :  regexsoFTWARE1\n"
     ]
    }
   ],
   "source": [
    "# uppercase half string\n",
    "\n",
    "str1 = 'regexsoftware1'\n",
    " \n",
    "# computing half index\n",
    "half_index = len(str1) // 2\n",
    " \n",
    "res = ''\n",
    "for index in range(len(str1)):\n",
    " \n",
    "    # uppercasing later half\n",
    "    if index >= half_index:\n",
    "        res += str1[index].upper()\n",
    "    else:\n",
    "        res += str1[index]\n",
    " \n",
    "\n",
    "print(\"The resultant string : \" , res)"
   ]
  },
  {
   "cell_type": "code",
   "execution_count": 25,
   "id": "3a1ac3e0",
   "metadata": {},
   "outputs": [
    {
     "name": "stdout",
     "output_type": "stream",
     "text": [
      "usertUSHAR\n"
     ]
    }
   ],
   "source": [
    "#method  2\n",
    "test_str = 'usertushar'\n",
    "\n",
    " \n",
    "# computing half index\n",
    "x = len(test_str)//2\n",
    "a = test_str[x:]\n",
    "b = test_str[:x]\n",
    "cap = \"ABCDEFGHIJKLMNOPQRSTUVWXYZ\"\n",
    "sma = \"abcdefghijklmnopqrstuvwxyz\"\n",
    "res = \"\"\n",
    "for i in a:\n",
    "    res += cap[sma.index(i)]\n",
    "res = b+res\n",
    "\n",
    "print(res)"
   ]
  },
  {
   "cell_type": "code",
   "execution_count": null,
   "id": "46d5ab21",
   "metadata": {},
   "outputs": [],
   "source": []
  }
 ],
 "metadata": {
  "kernelspec": {
   "display_name": "Python 3 (ipykernel)",
   "language": "python",
   "name": "python3"
  },
  "language_info": {
   "codemirror_mode": {
    "name": "ipython",
    "version": 3
   },
   "file_extension": ".py",
   "mimetype": "text/x-python",
   "name": "python",
   "nbconvert_exporter": "python",
   "pygments_lexer": "ipython3",
   "version": "3.10.11"
  }
 },
 "nbformat": 4,
 "nbformat_minor": 5
}
